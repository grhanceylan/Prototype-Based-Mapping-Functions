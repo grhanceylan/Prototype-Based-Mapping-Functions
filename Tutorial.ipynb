{
 "cells": [
  {
   "cell_type": "markdown",
   "id": "2431392d-8ac9-452b-8d70-2e41a23d0297",
   "metadata": {},
   "source": [
    " # Prototype based feture maps"
   ]
  },
  {
   "cell_type": "markdown",
   "id": "c2f343c0-4084-440e-baa6-4b38cc21483e",
   "metadata": {},
   "source": [
    "### Import related packages and modules"
   ]
  },
  {
   "cell_type": "code",
   "execution_count": 1,
   "id": "9f09e6fa-2679-48be-82c1-1adc8c5644c1",
   "metadata": {},
   "outputs": [],
   "source": [
    "import numpy as np\n",
    "from sklearn.datasets import make_blobs\n",
    "from PrototypeBasedFeaturemaps import Featuremap"
   ]
  },
  {
   "cell_type": "markdown",
   "id": "ea1acc4b-5dcd-4d97-9156-53848c7569a5",
   "metadata": {},
   "source": [
    "### Manual mapping   (prototypes are chosen by practioner)\n",
    "\n",
    "Our mapping functions have been incorporated into the [PrototypeBasedFeaturemaps](PrototypeBasedFeaturemaps.py) module. The creation of a mapping function is straightforward and requires only two parameters: the name of the mapping function and the metric used to calculate distance values.\n",
    "\n",
    "Supported mapping names: 'Phi_1', 'Phi_M', Phi_1', 'Phi_M', Phi_NM'\n",
    "\n",
    "Supported metrics: $\\ell_1$: 'l1' norm and $\\ell_2$: 'l2' norm"
   ]
  },
  {
   "cell_type": "code",
   "execution_count": 2,
   "id": "0c8b5455-9853-44e9-8c5e-04bf9fec6e84",
   "metadata": {},
   "outputs": [],
   "source": [
    "# create mapping functions\n",
    "metric='l1'\n",
    "phi_1= Featuremap(mapping='Phi_1', metric=metric)\n",
    "phi_M= Featuremap(mapping='Phi_M', metric=metric)\n",
    "phi_N= Featuremap(mapping='Phi_N', metric=metric)\n",
    "phi_MN= Featuremap(mapping='Phi_MN', metric=metric)"
   ]
  },
  {
   "cell_type": "code",
   "execution_count": 3,
   "id": "157f2c72-463c-40c9-91fa-c12aec74f080",
   "metadata": {},
   "outputs": [
    {
     "name": "stdout",
     "output_type": "stream",
     "text": [
      "(500, 2)\n"
     ]
    }
   ],
   "source": [
    "# generate a dummy dataset\n",
    "random_state = 42\n",
    "n_samples = 500\n",
    "centers = np.array([(-5, -5), (0, -5),(5,-5),(-5,0)]).reshape((4,2))\n",
    "X,y=make_blobs(n_samples=n_samples, centers=centers, shuffle=False,random_state=random_state)\n",
    "# binarize labels\n",
    "y= np.array([i%2 for i in y])\n",
    "print(X.shape)"
   ]
  },
  {
   "cell_type": "code",
   "execution_count": 4,
   "id": "471b9e76-dfe7-4867-b0d2-7accc6243a0f",
   "metadata": {},
   "outputs": [
    {
     "name": "stdout",
     "output_type": "stream",
     "text": [
      "(2, 2)\n",
      "(2, 2)\n"
     ]
    }
   ],
   "source": [
    "# select protypes\n",
    "protos_1= centers[[0,2]]\n",
    "protos_2= centers[[1,3]]\n",
    "print(protos_1.shape)\n",
    "print(protos_2.shape)"
   ]
  },
  {
   "cell_type": "markdown",
   "id": "f7904559-84e1-407d-a832-d40c38b5bae4",
   "metadata": {},
   "source": [
    "Note that, $\\phi_1$ and $\\phi_N$ utilize single prototype set."
   ]
  },
  {
   "cell_type": "code",
   "execution_count": 5,
   "id": "3c3e238c-bb51-4c6d-89cd-9c58d32ee636",
   "metadata": {},
   "outputs": [
    {
     "name": "stdout",
     "output_type": "stream",
     "text": [
      "(500, 3)\n",
      "(500, 4)\n"
     ]
    }
   ],
   "source": [
    "# map from n to n+1 dimension \n",
    "XD_1=phi_1.map(X,protos_1)\n",
    "print(XD_1.shape)\n",
    "\n",
    "# map from n to n+n dimension\n",
    "XD_N=phi_N.map(X,protos_1)\n",
    "print(XD_N.shape)"
   ]
  },
  {
   "cell_type": "code",
   "execution_count": 6,
   "id": "e26e4034-f8ce-41b0-80f4-ab9043608ccb",
   "metadata": {},
   "outputs": [
    {
     "name": "stdout",
     "output_type": "stream",
     "text": [
      "(500, 4)\n",
      "(500, 6)\n"
     ]
    }
   ],
   "source": [
    "protos=[protos_1,protos_2]\n",
    "\n",
    "# map from n to n+M dimension\n",
    "# M=2\n",
    "XD_2=phi_M.map(X,protos)\n",
    "print(XD_2.shape)\n",
    "\n",
    "# map from n to n + m x n dimension\n",
    "XD_MN=phi_MN.map(X,protos)\n",
    "print(XD_MN.shape)"
   ]
  },
  {
   "cell_type": "markdown",
   "id": "e25be6e1-c9e2-4e87-ad74-a731470d1fb0",
   "metadata": {},
   "source": [
    "## Automatic mapping (prototypes are chosen by k-means)\n",
    "\n",
    "In [Numerical_Prototype_Selection](Numerical_Prototype_Selection.py), a transformation function has been implemented utilizing scikit-learn transformers. This transformer applies the k-means clustering algorithm and designates cluster centers as prototypes. When either $\\phi_1$ or $\\phi_N$ is provided, clustering is applied to the entire dataset. Conversely, when $\\phi_M$ or $\\phi_{MN}$ is provided, clustering is applied to each class separately.\n",
    "\n",
    "As an example, consider the following binary classification scenario where the feature map is $\\phi_M$. In this case, the two-dimensional data is mapped to a four-dimensional feature space."
   ]
  },
  {
   "cell_type": "code",
   "execution_count": 7,
   "id": "04b6c84b-0288-428f-8633-965a4bd7d060",
   "metadata": {},
   "outputs": [
    {
     "name": "stdout",
     "output_type": "stream",
     "text": [
      "(500, 4)\n"
     ]
    }
   ],
   "source": [
    "from Numerical_Prototype_Selection import ProtoTransformer\n",
    "\n",
    "my_transformer=ProtoTransformer(feature_map=phi_M, n_proto=2)\n",
    "my_transformer.fit(X,y)\n",
    "XD=my_transformer.transform(X)\n",
    "print(XD.shape)"
   ]
  },
  {
   "cell_type": "markdown",
   "id": "94908f9d-17c6-4064-ac70-53926ebdf5a6",
   "metadata": {},
   "source": [
    "The implemented transformer is fully compatible with scikit-learn modules, including pipeline and grid-search. This compatibility enables the identification of the optimal number of prototypes in conjunction with classifier-specific hyperparameters."
   ]
  },
  {
   "cell_type": "code",
   "execution_count": 8,
   "id": "144ae8a3-961a-4479-b086-fbd8a18e529e",
   "metadata": {},
   "outputs": [
    {
     "name": "stdout",
     "output_type": "stream",
     "text": [
      "0.7757142857142857\n",
      "{'clf__C': 1, 'mapping__n_proto': 2}\n"
     ]
    }
   ],
   "source": [
    "from sklearn.pipeline import Pipeline\n",
    "from sklearn.linear_model import LogisticRegression as LR\n",
    "from sklearn.model_selection import GridSearchCV\n",
    "from sklearn.datasets import make_classification\n",
    "\n",
    "clf = LR(random_state=42,solver='liblinear', dual=False)\n",
    "\n",
    "pipe_line= Pipeline(steps=[('mapping',my_transformer),\n",
    "                        ('clf', clf)])\n",
    "\n",
    "c_params=[0.1,1,10]\n",
    "n_proto=[2,3,4]\n",
    "grid_search_params= {'clf__C':c_params, 'mapping__n_proto': n_proto}\n",
    "\n",
    "grid_search = GridSearchCV(estimator=pipe_line, param_grid=grid_search_params, refit=True, cv=2 , scoring='accuracy', n_jobs=1)\n",
    "\n",
    "X, y = make_classification(n_samples=700, random_state=42,n_informative=5)\n",
    "\n",
    "grid_search.fit(X,y)\n",
    "\n",
    "print(grid_search.best_score_)\n",
    "print(grid_search.best_params_)"
   ]
  },
  {
   "cell_type": "code",
   "execution_count": 9,
   "id": "521f77bb-6392-42b5-affd-0c117e85f72a",
   "metadata": {},
   "outputs": [
    {
     "name": "stdout",
     "output_type": "stream",
     "text": [
      "2\n",
      "2\n"
     ]
    }
   ],
   "source": [
    "prototype_sets= grid_search.best_estimator_['mapping'].proto\n",
    "for p in prototype_sets:\n",
    "    print(len(p))"
   ]
  }
 ],
 "metadata": {
  "kernelspec": {
   "display_name": "Python 3 (ipykernel)",
   "language": "python",
   "name": "python3"
  },
  "language_info": {
   "codemirror_mode": {
    "name": "ipython",
    "version": 3
   },
   "file_extension": ".py",
   "mimetype": "text/x-python",
   "name": "python",
   "nbconvert_exporter": "python",
   "pygments_lexer": "ipython3",
   "version": "3.9.12"
  }
 },
 "nbformat": 4,
 "nbformat_minor": 5
}
